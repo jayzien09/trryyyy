{
 "cells": [
  {
   "cell_type": "markdown",
   "id": "a073aa8a-5d77-4f9a-9bcb-7bf5013506ef",
   "metadata": {},
   "source": [
    "NER"
   ]
  },
  {
   "cell_type": "code",
   "execution_count": 1,
   "id": "18381e76-954d-471b-bcad-ecd5d6fd845e",
   "metadata": {},
   "outputs": [],
   "source": [
    "import cv2 \n",
    "\n",
    "import pytesseract\n",
    "import re\n",
    "\n",
    "import difflib\n",
    "\n",
    "from dateutil import parser\n",
    "from spellchecker import SpellChecker\n",
    "\n",
    "import datefinder\n",
    "from datetime import datetime\n",
    "\n",
    "import requests\n",
    "import numpy as np\n",
    "from io import BytesIO\n",
    "from PIL import Image"
   ]
  },
  {
   "cell_type": "code",
   "execution_count": 2,
   "id": "f2eac704-831c-47dc-bd47-e0bec3a05ef5",
   "metadata": {},
   "outputs": [],
   "source": [
    "def spellChecker(document, businessName, businessOwner, business_address):\n",
    "    \n",
    "    custom_list = []\n",
    "    businessOwner = businessOwner.split()\n",
    "    business_address = business_address.split()\n",
    "    businessName = businessName.split()\n",
    "    for name in businessOwner:\n",
    "        custom_list.append(name)\n",
    "    \n",
    "    for add in business_address:\n",
    "        custom_list.append(add)\n",
    "        \n",
    "    for bus in businessName:\n",
    "        custom_list.append(bus)\n",
    "        \n",
    "    matched_lists = []\n",
    "    def correct_name_spelling(sentence, name_list):\n",
    "        # Convert sentence to lowercase\n",
    "        sentence = sentence.lower()\n",
    "        # Remove punctuation marks\n",
    "        sentence = re.sub(r'[^\\w\\s]','',sentence)\n",
    "        words = sentence.split()\n",
    "        for i, word in enumerate(words):\n",
    "            word = word.lower()\n",
    "            name_list = [name.lower() for name in name_list]\n",
    "            match = difflib.get_close_matches(word, name_list, n=1, cutoff=0.7)\n",
    "            if not match:\n",
    "                # check for the variations of the word\n",
    "                variations = [word+'s', word+'es', word[:-1], word+'ed']\n",
    "                for var in variations:\n",
    "                    match = difflib.get_close_matches(var, name_list, n=1, cutoff=0.7)\n",
    "                    if match:\n",
    "                        break\n",
    "            if match:\n",
    "                matched_list = []\n",
    "               # print(words[i].upper(), match[0])\n",
    "                matched_list.append(words[i].upper())\n",
    "                matched_list.append(match[0])\n",
    "                #return the matched images\n",
    "                words[i] = match[0]\n",
    "                matched_lists.append(matched_list)\n",
    "        corrected_sentence = \" \".join(words)\n",
    "        return corrected_sentence\n",
    "    \n",
    "    namedChecked = correct_name_spelling(document, custom_list)\n",
    "    print(matched_lists)\n",
    "    \n",
    "    # Create a SpellChecker object\n",
    "    spell = SpellChecker()\n",
    "\n",
    "    # Your string with misspelled words\n",
    "    misspelled_string = namedChecked\n",
    "\n",
    "    # Find all misspelled words in the string\n",
    "    misspelled_words = spell.unknown(misspelled_string.split())\n",
    "\n",
    "    corrected_string = misspelled_string\n",
    "    for word in misspelled_words:\n",
    "        corrected_string = corrected_string.replace(word, spell.correction(word))\n",
    "\n",
    "    return (corrected_string)\n",
    "    "
   ]
  },
  {
   "cell_type": "code",
   "execution_count": 3,
   "id": "4f5b18f8-6301-44c2-b054-0f5d2a578027",
   "metadata": {},
   "outputs": [],
   "source": [
    "def ocrFunction(networkURL, bussinessName, businessOwner, business_address):\n",
    "    \n",
    "    cert = cv2.imread(networkURL, 0)\n",
    "    ''' for network link\n",
    "    ert = Image.open(BytesIO(requests.get(networkURL).content))\n",
    "    ert = np.array(cert)\n",
    "    '''\n",
    "    thresh, binarized_cert =cv2.threshold(cert, 120, 200, cv2.THRESH_BINARY) #numbers are paramters that can be changed \n",
    "    \n",
    "    \n",
    "    pytesseract_result = pytesseract.image_to_string(binarized_cert) \n",
    "    pytesseract_result = pytesseract_result.replace('\\n', ' ')\n",
    "    pytesseract_result = \" \".join(pytesseract_result.split())\n",
    "    pytesseract_result = pytesseract_result.replace('_', '')\n",
    "    \n",
    "    text = spellChecker(pytesseract_result, bussinessName, businessOwner, business_address)\n",
    "    \n",
    "    matches = datefinder.find_dates(text)\n",
    "    \n",
    "    # Create an empty set\n",
    "    unique_dates = set() #store date for date verification\n",
    "\n",
    "    # Iterate over the matches\n",
    "    for match in matches:\n",
    "        date = match.date()\n",
    "        # Check if the date is within the desired range\n",
    "        if date.year >= 2000 and date.year <= 2030:\n",
    "            # Add the date to the set, since sets don't allow duplicate elements, it will only store unique date strings.\n",
    "            unique_dates.add(date.strftime(\"%Y-%m-%d\"))\n",
    "\n",
    "    # Print each unique dates\n",
    "    '''\n",
    "    for date in unique_dates:\n",
    "        print(date)    \n",
    "    '''\n",
    "    print(unique_dates)"
   ]
  },
  {
   "cell_type": "code",
   "execution_count": 4,
   "id": "d38e43fc-696b-4bb2-8a5f-e3fa525b6a63",
   "metadata": {},
   "outputs": [
    {
     "name": "stdout",
     "output_type": "stream",
     "text": [
      "[['MARISSA', 'marissa'], ['BERDAIE', 'berdaje'], ['UGAY', 'ugay'], ['FILINVEST', 'filinvest'], ['ROAD', 'road1'], ['BHOC', 'bhqc'], ['BOSSILOGTAPSILOGAN', 'tapsilogan']]\n",
      "{'2020-12-31', '2021-01-20'}\n"
     ]
    }
   ],
   "source": [
    "#network_url = 'https://firebasestorage.googleapis.com/v0/b/artemis-f2a4c.appspot.com/o/companyLogo%2FZinnovare%2FArchitecture%20of%208086.png?alt=media&token=56e6033a-eea7-4f70-839c-6abb4db20a28'\n",
    "network_url = 'permit.png'\n",
    "business_owner_fullname = \"Marissa Berdaje Ugay\"\n",
    "business_name = \"Bossilog Tapsilogan\"\n",
    "business_address = \"Filinvest Road1 BHQC\"\n",
    "\n",
    "ocrFunction(network_url, business_name, business_owner_fullname, business_address)"
   ]
  },
  {
   "cell_type": "code",
   "execution_count": null,
   "id": "a4c3e527-d50c-4241-a64c-1ac17effd479",
   "metadata": {},
   "outputs": [],
   "source": []
  }
 ],
 "metadata": {
  "kernelspec": {
   "display_name": "Python 3 (ipykernel)",
   "language": "python",
   "name": "python3"
  },
  "language_info": {
   "codemirror_mode": {
    "name": "ipython",
    "version": 3
   },
   "file_extension": ".py",
   "mimetype": "text/x-python",
   "name": "python",
   "nbconvert_exporter": "python",
   "pygments_lexer": "ipython3",
   "version": "3.9.13"
  }
 },
 "nbformat": 4,
 "nbformat_minor": 5
}
